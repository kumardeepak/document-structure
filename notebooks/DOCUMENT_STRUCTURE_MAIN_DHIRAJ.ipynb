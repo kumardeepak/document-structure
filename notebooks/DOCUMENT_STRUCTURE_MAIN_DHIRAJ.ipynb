{
 "cells": [
  {
   "cell_type": "code",
   "execution_count": 58,
   "metadata": {},
   "outputs": [],
   "source": [
    "import os\n",
    "from utilities import (extract_image_from_pdf, extract_xml_from_digital_pdf,\n",
    "                       create_directory, read_directory_files, get_subdirectories,\n",
    "                       get_string_xmltree, get_xmltree, get_specific_tags, get_page_texts_ordered,\n",
    "                       get_page_text_element_attrib, get_ngram\n",
    "                      )\n",
    "from xml_document_info import (get_xml_info)\n",
    "\n",
    "from box_horizontal_operations import (merge_horizontal_blocks)\n",
    "from box_vertical_operations import (merge_vertical_blocks)\n",
    "\n",
    "import pandas as pd\n",
    "from PIL import Image, ImageDraw, ImageFont\n",
    "import copy\n",
    "\n",
    "from table import TableRepositories\n",
    "from rect import RectRepositories\n",
    "\n",
    "import matplotlib.pyplot as plt\n",
    "\n",
    "pd.set_option('display.max_rows', None)\n"
   ]
  },
  {
   "cell_type": "markdown",
   "metadata": {},
   "source": [
    "## Draw the boxes on document pages"
   ]
  },
  {
   "cell_type": "code",
   "execution_count": 59,
   "metadata": {},
   "outputs": [],
   "source": [
    "def draw_box(filepath, desired_width, desired_height, df, color=\"green\", save=False):\n",
    "    image  = Image.open(filepath)\n",
    "    image  = image.resize((desired_width, desired_height))\n",
    "    draw   = ImageDraw.Draw(image)\n",
    "    \n",
    "    for index, row in df.iterrows():\n",
    "        left   = int(row['text_left'])\n",
    "        right  = int(row['text_width'] + left)\n",
    "        top    = int(row['text_top'])\n",
    "        bottom = int(row[\"text_height\"] + top)\n",
    "        \n",
    "        draw.rectangle(((left, top), (right,bottom)), outline=color)\n",
    "    save_filepath = os.path.join(os.path.dirname(filepath), 'processed_' + os.path.basename(filepath))\n",
    "    if save:\n",
    "        image.save(save_filepath)\n",
    "    \n",
    "    return image\n",
    "\n",
    "def show_df(df):\n",
    "    return df.head(df.shape[0])"
   ]
  },
  {
   "cell_type": "markdown",
   "metadata": {},
   "source": [
    "## start of program"
   ]
  },
  {
   "cell_type": "code",
   "execution_count": 60,
   "metadata": {},
   "outputs": [
    {
     "data": {
      "text/plain": [
       "0"
      ]
     },
     "execution_count": 60,
     "metadata": {},
     "output_type": "execute_result"
    }
   ],
   "source": [
    "base_dir    = '/home/dhiraj/Documents/Anuwad/document-structure/data'\n",
    "input_dir  = os.path.join(base_dir, 'input')\n",
    "output_dir = os.path.join(base_dir, 'output')\n",
    "\n",
    "#filename   = 'Testa_Dummy_ImuPro_okt2018_5725.pdf'\n",
    "#filename   = 'v241.pdf'\n",
    "filename   = 'downloaded.pdf'\n",
    "#filename   = '20695_2010_8_1501_20635_Judgement_17-Feb-2020.pdf'\n",
    "#filename    = '20.03.2020.pdf'\n",
    "#filename    = '6251_2016_3_1501_19387_Judgement_06-Jan-2020.pdf'\n",
    "#filename   = '4603_2017_11_1503_19663_Judgement_15-Jan-2020.pdf'\n",
    "\n",
    "\n",
    "os.system('mkdir -p {0}'.format(input_dir))\n",
    "\n",
    "os.system('mkdir -p {0}'.format(output_dir))\n",
    "\n"
   ]
  },
  {
   "cell_type": "code",
   "execution_count": 61,
   "metadata": {
    "scrolled": true
   },
   "outputs": [
    {
     "name": "stdout",
     "output_type": "stream",
     "text": [
      "Extracted xml & images of file: downloaded.pdf\n"
     ]
    }
   ],
   "source": [
    "pdf_filepath   = os.path.join(input_dir, filename)\n",
    "working_dir    = os.path.join(output_dir, os.path.splitext(filename)[0])\n",
    "\n",
    "ret            = create_directory(working_dir)\n",
    "\n",
    "pdf_image_dir  = extract_image_from_pdf(pdf_filepath, working_dir)\n",
    "pdf_xml_dir    = extract_xml_from_digital_pdf(pdf_filepath, working_dir)\n",
    "\n",
    "\n",
    "\n",
    "xml_files      = read_directory_files(pdf_xml_dir, pattern='*.xml')\n",
    "# print(xml_files, \"\\n\\n\")\n",
    "image_files    = read_directory_files(pdf_image_dir, pattern='*-*.jpg')\n",
    "# print(image_files)\n",
    "print(\"Extracted xml & images of file: %s\" % (filename))"
   ]
  },
  {
   "cell_type": "code",
   "execution_count": 62,
   "metadata": {},
   "outputs": [
    {
     "name": "stdout",
     "output_type": "stream",
     "text": [
      "Total number of pages (6) in file (downloaded.xml)\n"
     ]
    }
   ],
   "source": [
    "xml_dfs, page_width, page_height = get_xml_info(xml_files[0])"
   ]
  },
  {
   "cell_type": "code",
   "execution_count": 63,
   "metadata": {},
   "outputs": [],
   "source": [
    "document_configs = {\n",
    "    'LANGUAGE_TYPE': 'eng',\n",
    "    \n",
    "    'HORI_BLOCK_WDTH_DIFF_PERC': 0.85,\n",
    "    'SUPERSCRIPT_HEIGHT_DIFFERENCE': 7.0,\n",
    "    'HORI_SPACE_TOO_CLOSE': 10.0,\n",
    "    \n",
    "    'VERTICAL_SPACE_TOO_CLOSE': 5.0,\n",
    "    'AVERAGE_VERTICAL_SPACE': 12.0,\n",
    "    'LEFT_OR_RIGHT_ALIGNMENT_MARGIN': 20.0\n",
    "}"
   ]
  },
  {
   "cell_type": "code",
   "execution_count": 64,
   "metadata": {},
   "outputs": [
    {
     "ename": "IndexError",
     "evalue": "list index out of range",
     "output_type": "error",
     "traceback": [
      "\u001b[0;31m---------------------------------------------------------------------------\u001b[0m",
      "\u001b[0;31mIndexError\u001b[0m                                Traceback (most recent call last)",
      "\u001b[0;32m<ipython-input-64-a87488e658b5>\u001b[0m in \u001b[0;36m<module>\u001b[0;34m\u001b[0m\n\u001b[1;32m      1\u001b[0m \u001b[0mfile_index\u001b[0m     \u001b[0;34m=\u001b[0m \u001b[0;36m24\u001b[0m\u001b[0;34m\u001b[0m\u001b[0;34m\u001b[0m\u001b[0m\n\u001b[1;32m      2\u001b[0m \u001b[0;34m\u001b[0m\u001b[0m\n\u001b[0;32m----> 3\u001b[0;31m \u001b[0mimg_filepath\u001b[0m   \u001b[0;34m=\u001b[0m \u001b[0mimage_files\u001b[0m\u001b[0;34m[\u001b[0m\u001b[0mfile_index\u001b[0m\u001b[0;34m]\u001b[0m\u001b[0;34m\u001b[0m\u001b[0;34m\u001b[0m\u001b[0m\n\u001b[0m\u001b[1;32m      4\u001b[0m \u001b[0mdf\u001b[0m             \u001b[0;34m=\u001b[0m \u001b[0mxml_dfs\u001b[0m\u001b[0;34m[\u001b[0m\u001b[0mfile_index\u001b[0m\u001b[0;34m]\u001b[0m\u001b[0;34m\u001b[0m\u001b[0;34m\u001b[0m\u001b[0m\n",
      "\u001b[0;31mIndexError\u001b[0m: list index out of range"
     ]
    }
   ],
   "source": [
    "file_index     = 24\n",
    "\n",
    "img_filepath   = image_files[file_index]\n",
    "df             = xml_dfs[file_index]\n"
   ]
  },
  {
   "cell_type": "code",
   "execution_count": null,
   "metadata": {},
   "outputs": [],
   "source": [
    "df"
   ]
  },
  {
   "cell_type": "code",
   "execution_count": null,
   "metadata": {},
   "outputs": [],
   "source": [
    "in_df   = df#.loc[:60]\n",
    "\n",
    "h_df    = merge_horizontal_blocks(in_df, document_configs, debug=False)\n",
    "v_df    = merge_vertical_blocks(h_df, document_configs, debug=False)\n",
    "\n",
    "draw_box(img_filepath, page_width, page_height, in_df, color='red')\n",
    "# show_df(in_df)\n"
   ]
  },
  {
   "cell_type": "code",
   "execution_count": null,
   "metadata": {},
   "outputs": [],
   "source": [
    "#in_df.sort_values(by=['text_left', 'text_top'], axis = 0, ascending = True, inplace=True)\n",
    "#show_df(in_df)\n"
   ]
  },
  {
   "cell_type": "markdown",
   "metadata": {},
   "source": [
    "# Table Integration"
   ]
  },
  {
   "cell_type": "code",
   "execution_count": 68,
   "metadata": {},
   "outputs": [],
   "source": [
    "\n",
    "def page_num_correction(file_index,num_size=None):\n",
    "    padding = '0'\n",
    "    max_length = num_size\n",
    "    corrction_factor = max_length - len(str(file_index + 1 ))\n",
    "    return padding * corrction_factor + str(file_index + 1)\n",
    "\n",
    "\n",
    "\n",
    "def change_keys(table):\n",
    "    table_row = {}\n",
    "    table_row['text_top']    = table['y']\n",
    "    table_row['text_left']   = table['x']\n",
    "    table_row['text_width']  = table['w']\n",
    "    table_row['text_height'] = table['h']\n",
    "    return table_row\n",
    "\n",
    "\n",
    "def get_line_df(lines) :\n",
    "    line_df = []\n",
    "    if len(lines) > 0 :\n",
    "        for line in lines :\n",
    "            line_row          = change_keys(line)\n",
    "            line_row['attrib']= 'LINE'\n",
    "            line_df.append(line_row)\n",
    "            \n",
    "    return pd.DataFrame(line_df)\n",
    "        \n",
    "\n",
    "def get_table_df(tables) :\n",
    "    table_df = []\n",
    "    if len(tables) > 0:\n",
    "        for table in tables :\n",
    "            table_row                = change_keys(table)\n",
    "            table_row['attrib']      = 'TABLE' \n",
    "            table_row['children']    = None\n",
    "            table_row['text']        = None\n",
    "\n",
    "            if len(table['rect']) > 0 :\n",
    "                table_row['children'] = []\n",
    "\n",
    "                for cell in table['rect'] :\n",
    "                    child_row  = change_keys(cell)\n",
    "                    child_row['text_top'] = child_row['text_top'] +  table_row['text_top']\n",
    "                    child_row['text_left'] = child_row['text_left'] + table_row['text_left']\n",
    "                    child_row['index'] = cell['index']\n",
    "                    child_row['text']  = None\n",
    "                    child_row['attrib']= 'TABLE'\n",
    "                    table_row['children'].append(child_row)\n",
    "\n",
    "            table_df.append(table_row)\n",
    "\n",
    "    table_df = pd.DataFrame(table_df)\n",
    "\n",
    "    return table_df\n",
    "\n",
    "\n",
    "\n",
    "\n",
    "def edit(dic ,df):\n",
    "    left_key   = 'text_left'\n",
    "    top_key    = 'text_top'\n",
    "    width_key  = 'text_width'\n",
    "    height_key = 'text_height'\n",
    "    \n",
    "    region =  (df[left_key] >= dic[left_key]) & (df[top_key] >= dic[top_key]) & ((df[top_key] + df[height_key]) <= (dic[top_key]+dic[height_key]))   & ((df[left_key] + df[width_key]) <= (dic[left_key]+dic[width_key]))\n",
    "\n",
    "    \n",
    "    text_df = df[region].to_dict('records')\n",
    "    df = df[~region]\n",
    "    return text_df ,df\n",
    "    \n",
    "    \n",
    "    \n",
    "def extract_and_delete_region(page_df, table_df):\n",
    "        \n",
    "        if len(table_df) >0 :\n",
    "            for index , row in table_df.iterrows():\n",
    "                \n",
    "                if row['children'] != None :\n",
    "                    for indx , cell in enumerate(row['children']):\n",
    "                        text_df , page_df                         = edit(cell ,page_df)\n",
    "                        table_df['children'][index][indx]['text'] = text_df                   \n",
    "                else :\n",
    "                    text_df , page_df = edit(cell ,page_df)\n",
    "                    table_df['text']  = text_df\n",
    "    \n",
    "        \n",
    "        return page_df ,table_df\n",
    "    \n",
    "    \n",
    "    \n",
    "    \n",
    "    \n",
    "def get_text_table_line_df(table_image , in_df) :\n",
    "    tables     = TableRepositories (table_image)\n",
    "    Rects = RectRepositories(table_image)\n",
    "    lines, _ = Rects.get_tables_and_lines()\n",
    "    \n",
    "    plt.imshow(tables.mask)\n",
    "    \n",
    "    line_df = get_line_df(lines)\n",
    "    tables_df = get_table_df(tables.response['response']['tables'])\n",
    "    filtered_in_df, table_df = extract_and_delete_region(in_df ,tables_df)\n",
    "    \n",
    "    plt.imshow(tables.mask)\n",
    "    return filtered_in_df , table_df ,line_df\n",
    "\n",
    "\n"
   ]
  },
  {
   "cell_type": "code",
   "execution_count": 69,
   "metadata": {},
   "outputs": [],
   "source": [
    "#create_directory(working_dir)\n",
    "#os.system('pdftohtml -c ' + pdf_filepath + ' ' + working_dir + '/')"
   ]
  },
  {
   "cell_type": "code",
   "execution_count": 70,
   "metadata": {},
   "outputs": [],
   "source": [
    "file_index      = 1\n",
    "table_image     = working_dir + '/' + page_num_correction(file_index , 3) + '.png'\n",
    "df              = xml_dfs[file_index]\n",
    "\n",
    "\n"
   ]
  },
  {
   "cell_type": "code",
   "execution_count": 71,
   "metadata": {},
   "outputs": [
    {
     "data": {
      "image/png": "[encoded data removed]",
      "text/plain": [
       "<Figure size 432x288 with 1 Axes>"
      ]
     },
     "metadata": {
      "needs_background": "light"
     },
     "output_type": "display_data"
    }
   ],
   "source": [
    "in_df , table_df , line_df = get_text_table_line_df(table_image,df)"
   ]
  },
  {
   "cell_type": "code",
   "execution_count": 72,
   "metadata": {},
   "outputs": [
    {
     "data": {
      "text/html": [
       "<div>\n",
       "<style scoped>\n",
       "    .dataframe tbody tr th:only-of-type {\n",
       "        vertical-align: middle;\n",
       "    }\n",
       "\n",
       "    .dataframe tbody tr th {\n",
       "        vertical-align: top;\n",
       "    }\n",
       "\n",
       "    .dataframe thead th {\n",
       "        text-align: right;\n",
       "    }\n",
       "</style>\n",
       "<table border=\"1\" class=\"dataframe\">\n",
       "  <thead>\n",
       "    <tr style=\"text-align: right;\">\n",
       "      <th></th>\n",
       "      <th>xml_index</th>\n",
       "      <th>text_top</th>\n",
       "      <th>text_left</th>\n",
       "      <th>text_width</th>\n",
       "      <th>text_height</th>\n",
       "      <th>text</th>\n",
       "      <th>font_size</th>\n",
       "      <th>font_family</th>\n",
       "      <th>font_color</th>\n",
       "      <th>attrib</th>\n",
       "    </tr>\n",
       "  </thead>\n",
       "  <tbody>\n",
       "    <tr>\n",
       "      <th>0</th>\n",
       "      <td>0</td>\n",
       "      <td>124</td>\n",
       "      <td>446</td>\n",
       "      <td>9</td>\n",
       "      <td>20</td>\n",
       "      <td>2</td>\n",
       "      <td>18</td>\n",
       "      <td>BAAAAA+TimesNewRomanPSMT</td>\n",
       "      <td>#000000</td>\n",
       "      <td></td>\n",
       "    </tr>\n",
       "    <tr>\n",
       "      <th>1</th>\n",
       "      <td>1</td>\n",
       "      <td>166</td>\n",
       "      <td>139</td>\n",
       "      <td>629</td>\n",
       "      <td>23</td>\n",
       "      <td>University to  verify the  course  undergone  ...</td>\n",
       "      <td>19</td>\n",
       "      <td>DAAAAA+TrebuchetMS</td>\n",
       "      <td>#000000</td>\n",
       "      <td></td>\n",
       "    </tr>\n",
       "    <tr>\n",
       "      <th>2</th>\n",
       "      <td>2</td>\n",
       "      <td>215</td>\n",
       "      <td>139</td>\n",
       "      <td>629</td>\n",
       "      <td>23</td>\n",
       "      <td>issue an appropriate certificate to the petiti...</td>\n",
       "      <td>19</td>\n",
       "      <td>DAAAAA+TrebuchetMS</td>\n",
       "      <td>#000000</td>\n",
       "      <td></td>\n",
       "    </tr>\n",
       "    <tr>\n",
       "      <th>3</th>\n",
       "      <td>3</td>\n",
       "      <td>263</td>\n",
       "      <td>139</td>\n",
       "      <td>629</td>\n",
       "      <td>23</td>\n",
       "      <td>specialization that was undergone by the petit...</td>\n",
       "      <td>19</td>\n",
       "      <td>DAAAAA+TrebuchetMS</td>\n",
       "      <td>#000000</td>\n",
       "      <td></td>\n",
       "    </tr>\n",
       "    <tr>\n",
       "      <th>4</th>\n",
       "      <td>4</td>\n",
       "      <td>311</td>\n",
       "      <td>139</td>\n",
       "      <td>629</td>\n",
       "      <td>23</td>\n",
       "      <td>doing   his   M.B.A.   Degree.   This   contem...</td>\n",
       "      <td>19</td>\n",
       "      <td>DAAAAA+TrebuchetMS</td>\n",
       "      <td>#000000</td>\n",
       "      <td></td>\n",
       "    </tr>\n",
       "    <tr>\n",
       "      <th>5</th>\n",
       "      <td>5</td>\n",
       "      <td>359</td>\n",
       "      <td>139</td>\n",
       "      <td>629</td>\n",
       "      <td>23</td>\n",
       "      <td>ground that the orders passed by this Court wa...</td>\n",
       "      <td>19</td>\n",
       "      <td>DAAAAA+TrebuchetMS</td>\n",
       "      <td>#000000</td>\n",
       "      <td></td>\n",
       "    </tr>\n",
       "    <tr>\n",
       "      <th>6</th>\n",
       "      <td>6</td>\n",
       "      <td>408</td>\n",
       "      <td>139</td>\n",
       "      <td>148</td>\n",
       "      <td>23</td>\n",
       "      <td>the respondents.</td>\n",
       "      <td>19</td>\n",
       "      <td>DAAAAA+TrebuchetMS</td>\n",
       "      <td>#000000</td>\n",
       "      <td></td>\n",
       "    </tr>\n",
       "    <tr>\n",
       "      <th>7</th>\n",
       "      <td>7</td>\n",
       "      <td>504</td>\n",
       "      <td>193</td>\n",
       "      <td>17</td>\n",
       "      <td>23</td>\n",
       "      <td>2.</td>\n",
       "      <td>19</td>\n",
       "      <td>DAAAAA+TrebuchetMS</td>\n",
       "      <td>#000000</td>\n",
       "      <td></td>\n",
       "    </tr>\n",
       "    <tr>\n",
       "      <th>8</th>\n",
       "      <td>8</td>\n",
       "      <td>504</td>\n",
       "      <td>247</td>\n",
       "      <td>521</td>\n",
       "      <td>23</td>\n",
       "      <td>When the matter came up for hearing on 29.01.2...</td>\n",
       "      <td>19</td>\n",
       "      <td>DAAAAA+TrebuchetMS</td>\n",
       "      <td>#000000</td>\n",
       "      <td></td>\n",
       "    </tr>\n",
       "    <tr>\n",
       "      <th>9</th>\n",
       "      <td>9</td>\n",
       "      <td>553</td>\n",
       "      <td>139</td>\n",
       "      <td>629</td>\n",
       "      <td>23</td>\n",
       "      <td>learned   counsel   appearing   for   the   re...</td>\n",
       "      <td>19</td>\n",
       "      <td>DAAAAA+TrebuchetMS</td>\n",
       "      <td>#000000</td>\n",
       "      <td></td>\n",
       "    </tr>\n",
       "    <tr>\n",
       "      <th>10</th>\n",
       "      <td>10</td>\n",
       "      <td>601</td>\n",
       "      <td>139</td>\n",
       "      <td>629</td>\n",
       "      <td>23</td>\n",
       "      <td>that   appropriate   orders   will   be   pass...</td>\n",
       "      <td>19</td>\n",
       "      <td>DAAAAA+TrebuchetMS</td>\n",
       "      <td>#000000</td>\n",
       "      <td></td>\n",
       "    </tr>\n",
       "    <tr>\n",
       "      <th>11</th>\n",
       "      <td>11</td>\n",
       "      <td>649</td>\n",
       "      <td>139</td>\n",
       "      <td>487</td>\n",
       "      <td>23</td>\n",
       "      <td>reported before this Court, in the next date o...</td>\n",
       "      <td>19</td>\n",
       "      <td>DAAAAA+TrebuchetMS</td>\n",
       "      <td>#000000</td>\n",
       "      <td></td>\n",
       "    </tr>\n",
       "    <tr>\n",
       "      <th>12</th>\n",
       "      <td>12</td>\n",
       "      <td>746</td>\n",
       "      <td>193</td>\n",
       "      <td>17</td>\n",
       "      <td>23</td>\n",
       "      <td>3.</td>\n",
       "      <td>19</td>\n",
       "      <td>DAAAAA+TrebuchetMS</td>\n",
       "      <td>#000000</td>\n",
       "      <td></td>\n",
       "    </tr>\n",
       "    <tr>\n",
       "      <th>13</th>\n",
       "      <td>13</td>\n",
       "      <td>746</td>\n",
       "      <td>247</td>\n",
       "      <td>521</td>\n",
       "      <td>23</td>\n",
       "      <td>Mr.M.C.Samy, learned counsel appearing on beha...</td>\n",
       "      <td>19</td>\n",
       "      <td>DAAAAA+TrebuchetMS</td>\n",
       "      <td>#000000</td>\n",
       "      <td></td>\n",
       "    </tr>\n",
       "    <tr>\n",
       "      <th>14</th>\n",
       "      <td>14</td>\n",
       "      <td>794</td>\n",
       "      <td>139</td>\n",
       "      <td>629</td>\n",
       "      <td>23</td>\n",
       "      <td>respondents today placed before this Court the...</td>\n",
       "      <td>19</td>\n",
       "      <td>DAAAAA+TrebuchetMS</td>\n",
       "      <td>#000000</td>\n",
       "      <td></td>\n",
       "    </tr>\n",
       "    <tr>\n",
       "      <th>15</th>\n",
       "      <td>15</td>\n",
       "      <td>842</td>\n",
       "      <td>139</td>\n",
       "      <td>629</td>\n",
       "      <td>23</td>\n",
       "      <td>been given to the petitioner, pursuant to the ...</td>\n",
       "      <td>19</td>\n",
       "      <td>DAAAAA+TrebuchetMS</td>\n",
       "      <td>#000000</td>\n",
       "      <td></td>\n",
       "    </tr>\n",
       "    <tr>\n",
       "      <th>16</th>\n",
       "      <td>16</td>\n",
       "      <td>891</td>\n",
       "      <td>139</td>\n",
       "      <td>73</td>\n",
       "      <td>23</td>\n",
       "      <td>Court. A</td>\n",
       "      <td>19</td>\n",
       "      <td>DAAAAA+TrebuchetMS</td>\n",
       "      <td>#000000</td>\n",
       "      <td></td>\n",
       "    </tr>\n",
       "    <tr>\n",
       "      <th>17</th>\n",
       "      <td>17</td>\n",
       "      <td>891</td>\n",
       "      <td>217</td>\n",
       "      <td>551</td>\n",
       "      <td>23</td>\n",
       "      <td>cursory glance at the certificate shows that t...</td>\n",
       "      <td>19</td>\n",
       "      <td>DAAAAA+TrebuchetMS</td>\n",
       "      <td>#000000</td>\n",
       "      <td></td>\n",
       "    </tr>\n",
       "    <tr>\n",
       "      <th>18</th>\n",
       "      <td>18</td>\n",
       "      <td>939</td>\n",
       "      <td>139</td>\n",
       "      <td>629</td>\n",
       "      <td>23</td>\n",
       "      <td>have been undergone by the petitioner in the M...</td>\n",
       "      <td>19</td>\n",
       "      <td>DAAAAA+TrebuchetMS</td>\n",
       "      <td>#000000</td>\n",
       "      <td></td>\n",
       "    </tr>\n",
       "    <tr>\n",
       "      <th>19</th>\n",
       "      <td>19</td>\n",
       "      <td>987</td>\n",
       "      <td>139</td>\n",
       "      <td>629</td>\n",
       "      <td>23</td>\n",
       "      <td>elective   and   specialization   subjects   h...</td>\n",
       "      <td>19</td>\n",
       "      <td>DAAAAA+TrebuchetMS</td>\n",
       "      <td>#000000</td>\n",
       "      <td></td>\n",
       "    </tr>\n",
       "    <tr>\n",
       "      <th>20</th>\n",
       "      <td>20</td>\n",
       "      <td>1036</td>\n",
       "      <td>139</td>\n",
       "      <td>629</td>\n",
       "      <td>23</td>\n",
       "      <td>mentioned in the certificate from Sl.No.18 to ...</td>\n",
       "      <td>19</td>\n",
       "      <td>DAAAAA+TrebuchetMS</td>\n",
       "      <td>#000000</td>\n",
       "      <td></td>\n",
       "    </tr>\n",
       "    <tr>\n",
       "      <th>21</th>\n",
       "      <td>21</td>\n",
       "      <td>1084</td>\n",
       "      <td>139</td>\n",
       "      <td>629</td>\n",
       "      <td>23</td>\n",
       "      <td>counsel submitted that the subjects of special...</td>\n",
       "      <td>19</td>\n",
       "      <td>DAAAAA+TrebuchetMS</td>\n",
       "      <td>#000000</td>\n",
       "      <td></td>\n",
       "    </tr>\n",
       "    <tr>\n",
       "      <th>22</th>\n",
       "      <td>22</td>\n",
       "      <td>1132</td>\n",
       "      <td>26</td>\n",
       "      <td>115</td>\n",
       "      <td>11</td>\n",
       "      <td>http://www.judis.nic.in</td>\n",
       "      <td>12</td>\n",
       "      <td>Helvetica</td>\n",
       "      <td>#000000</td>\n",
       "      <td></td>\n",
       "    </tr>\n",
       "  </tbody>\n",
       "</table>\n",
       "</div>"
      ],
      "text/plain": [
       "    xml_index  text_top  text_left  text_width  text_height  \\\n",
       "0           0       124        446           9           20   \n",
       "1           1       166        139         629           23   \n",
       "2           2       215        139         629           23   \n",
       "3           3       263        139         629           23   \n",
       "4           4       311        139         629           23   \n",
       "5           5       359        139         629           23   \n",
       "6           6       408        139         148           23   \n",
       "7           7       504        193          17           23   \n",
       "8           8       504        247         521           23   \n",
       "9           9       553        139         629           23   \n",
       "10         10       601        139         629           23   \n",
       "11         11       649        139         487           23   \n",
       "12         12       746        193          17           23   \n",
       "13         13       746        247         521           23   \n",
       "14         14       794        139         629           23   \n",
       "15         15       842        139         629           23   \n",
       "16         16       891        139          73           23   \n",
       "17         17       891        217         551           23   \n",
       "18         18       939        139         629           23   \n",
       "19         19       987        139         629           23   \n",
       "20         20      1036        139         629           23   \n",
       "21         21      1084        139         629           23   \n",
       "22         22      1132         26         115           11   \n",
       "\n",
       "                                                 text  font_size  \\\n",
       "0                                                   2         18   \n",
       "1   University to  verify the  course  undergone  ...         19   \n",
       "2   issue an appropriate certificate to the petiti...         19   \n",
       "3   specialization that was undergone by the petit...         19   \n",
       "4   doing   his   M.B.A.   Degree.   This   contem...         19   \n",
       "5   ground that the orders passed by this Court wa...         19   \n",
       "6                                    the respondents.         19   \n",
       "7                                                  2.         19   \n",
       "8   When the matter came up for hearing on 29.01.2...         19   \n",
       "9   learned   counsel   appearing   for   the   re...         19   \n",
       "10  that   appropriate   orders   will   be   pass...         19   \n",
       "11  reported before this Court, in the next date o...         19   \n",
       "12                                                 3.         19   \n",
       "13  Mr.M.C.Samy, learned counsel appearing on beha...         19   \n",
       "14  respondents today placed before this Court the...         19   \n",
       "15  been given to the petitioner, pursuant to the ...         19   \n",
       "16                                           Court. A         19   \n",
       "17  cursory glance at the certificate shows that t...         19   \n",
       "18  have been undergone by the petitioner in the M...         19   \n",
       "19  elective   and   specialization   subjects   h...         19   \n",
       "20  mentioned in the certificate from Sl.No.18 to ...         19   \n",
       "21  counsel submitted that the subjects of special...         19   \n",
       "22                            http://www.judis.nic.in         12   \n",
       "\n",
       "                 font_family font_color attrib  \n",
       "0   BAAAAA+TimesNewRomanPSMT    #000000         \n",
       "1         DAAAAA+TrebuchetMS    #000000         \n",
       "2         DAAAAA+TrebuchetMS    #000000         \n",
       "3         DAAAAA+TrebuchetMS    #000000         \n",
       "4         DAAAAA+TrebuchetMS    #000000         \n",
       "5         DAAAAA+TrebuchetMS    #000000         \n",
       "6         DAAAAA+TrebuchetMS    #000000         \n",
       "7         DAAAAA+TrebuchetMS    #000000         \n",
       "8         DAAAAA+TrebuchetMS    #000000         \n",
       "9         DAAAAA+TrebuchetMS    #000000         \n",
       "10        DAAAAA+TrebuchetMS    #000000         \n",
       "11        DAAAAA+TrebuchetMS    #000000         \n",
       "12        DAAAAA+TrebuchetMS    #000000         \n",
       "13        DAAAAA+TrebuchetMS    #000000         \n",
       "14        DAAAAA+TrebuchetMS    #000000         \n",
       "15        DAAAAA+TrebuchetMS    #000000         \n",
       "16        DAAAAA+TrebuchetMS    #000000         \n",
       "17        DAAAAA+TrebuchetMS    #000000         \n",
       "18        DAAAAA+TrebuchetMS    #000000         \n",
       "19        DAAAAA+TrebuchetMS    #000000         \n",
       "20        DAAAAA+TrebuchetMS    #000000         \n",
       "21        DAAAAA+TrebuchetMS    #000000         \n",
       "22                 Helvetica    #000000         "
      ]
     },
     "execution_count": 72,
     "metadata": {},
     "output_type": "execute_result"
    }
   ],
   "source": [
    "in_df"
   ]
  },
  {
   "cell_type": "code",
   "execution_count": 47,
   "metadata": {},
   "outputs": [
    {
     "data": {
      "text/html": [
       "<div>\n",
       "<style scoped>\n",
       "    .dataframe tbody tr th:only-of-type {\n",
       "        vertical-align: middle;\n",
       "    }\n",
       "\n",
       "    .dataframe tbody tr th {\n",
       "        vertical-align: top;\n",
       "    }\n",
       "\n",
       "    .dataframe thead th {\n",
       "        text-align: right;\n",
       "    }\n",
       "</style>\n",
       "<table border=\"1\" class=\"dataframe\">\n",
       "  <thead>\n",
       "    <tr style=\"text-align: right;\">\n",
       "      <th></th>\n",
       "      <th>text_top</th>\n",
       "      <th>text_left</th>\n",
       "      <th>text_width</th>\n",
       "      <th>text_height</th>\n",
       "      <th>attrib</th>\n",
       "      <th>children</th>\n",
       "      <th>text</th>\n",
       "    </tr>\n",
       "  </thead>\n",
       "  <tbody>\n",
       "    <tr>\n",
       "      <th>0</th>\n",
       "      <td>489</td>\n",
       "      <td>221</td>\n",
       "      <td>97</td>\n",
       "      <td>263</td>\n",
       "      <td>TABLE</td>\n",
       "      <td>[{'text_top': 497, 'text_left': 279, 'text_wid...</td>\n",
       "      <td>None</td>\n",
       "    </tr>\n",
       "    <tr>\n",
       "      <th>1</th>\n",
       "      <td>483</td>\n",
       "      <td>602</td>\n",
       "      <td>96</td>\n",
       "      <td>269</td>\n",
       "      <td>TABLE</td>\n",
       "      <td>[{'text_top': 483, 'text_left': 602, 'text_wid...</td>\n",
       "      <td>None</td>\n",
       "    </tr>\n",
       "    <tr>\n",
       "      <th>2</th>\n",
       "      <td>461</td>\n",
       "      <td>594</td>\n",
       "      <td>46</td>\n",
       "      <td>192</td>\n",
       "      <td>TABLE</td>\n",
       "      <td>[{'text_top': 611, 'text_left': 605, 'text_wid...</td>\n",
       "      <td>None</td>\n",
       "    </tr>\n",
       "  </tbody>\n",
       "</table>\n",
       "</div>"
      ],
      "text/plain": [
       "   text_top  text_left  text_width  text_height attrib  \\\n",
       "0       489        221          97          263  TABLE   \n",
       "1       483        602          96          269  TABLE   \n",
       "2       461        594          46          192  TABLE   \n",
       "\n",
       "                                            children  text  \n",
       "0  [{'text_top': 497, 'text_left': 279, 'text_wid...  None  \n",
       "1  [{'text_top': 483, 'text_left': 602, 'text_wid...  None  \n",
       "2  [{'text_top': 611, 'text_left': 605, 'text_wid...  None  "
      ]
     },
     "execution_count": 47,
     "metadata": {},
     "output_type": "execute_result"
    }
   ],
   "source": [
    "table_df"
   ]
  },
  {
   "cell_type": "code",
   "execution_count": 48,
   "metadata": {
    "scrolled": true
   },
   "outputs": [
    {
     "data": {
      "text/plain": [
       "[{'text_top': 497,\n",
       "  'text_left': 279,\n",
       "  'text_width': 19,\n",
       "  'text_height': 149,\n",
       "  'index': (0, 0),\n",
       "  'text': [],\n",
       "  'attrib': 'TABLE'},\n",
       " {'text_top': 489,\n",
       "  'text_left': 300,\n",
       "  'text_width': 4,\n",
       "  'text_height': 48,\n",
       "  'index': (1, 0),\n",
       "  'text': [],\n",
       "  'attrib': 'TABLE'},\n",
       " {'text_top': 489,\n",
       "  'text_left': 307,\n",
       "  'text_width': 11,\n",
       "  'text_height': 24,\n",
       "  'index': (2, 0),\n",
       "  'text': [],\n",
       "  'attrib': 'TABLE'},\n",
       " {'text_top': 544,\n",
       "  'text_left': 286,\n",
       "  'text_width': 8,\n",
       "  'text_height': 69,\n",
       "  'index': (3, 0),\n",
       "  'text': [],\n",
       "  'attrib': 'TABLE'}]"
      ]
     },
     "execution_count": 48,
     "metadata": {},
     "output_type": "execute_result"
    }
   ],
   "source": [
    "table_df['children'][0]"
   ]
  },
  {
   "cell_type": "code",
   "execution_count": 18,
   "metadata": {},
   "outputs": [
    {
     "data": {
      "text/html": [
       "<div>\n",
       "<style scoped>\n",
       "    .dataframe tbody tr th:only-of-type {\n",
       "        vertical-align: middle;\n",
       "    }\n",
       "\n",
       "    .dataframe tbody tr th {\n",
       "        vertical-align: top;\n",
       "    }\n",
       "\n",
       "    .dataframe thead th {\n",
       "        text-align: right;\n",
       "    }\n",
       "</style>\n",
       "<table border=\"1\" class=\"dataframe\">\n",
       "  <thead>\n",
       "    <tr style=\"text-align: right;\">\n",
       "      <th></th>\n",
       "    </tr>\n",
       "  </thead>\n",
       "  <tbody>\n",
       "  </tbody>\n",
       "</table>\n",
       "</div>"
      ],
      "text/plain": [
       "Empty DataFrame\n",
       "Columns: []\n",
       "Index: []"
      ]
     },
     "execution_count": 18,
     "metadata": {},
     "output_type": "execute_result"
    }
   ],
   "source": [
    "line_df"
   ]
  },
  {
   "cell_type": "code",
   "execution_count": null,
   "metadata": {},
   "outputs": [],
   "source": []
  },
  {
   "cell_type": "code",
   "execution_count": null,
   "metadata": {},
   "outputs": [],
   "source": []
  },
  {
   "cell_type": "code",
   "execution_count": null,
   "metadata": {},
   "outputs": [],
   "source": []
  },
  {
   "cell_type": "code",
   "execution_count": null,
   "metadata": {},
   "outputs": [],
   "source": [
    "len(table_df)"
   ]
  },
  {
   "cell_type": "code",
   "execution_count": null,
   "metadata": {
    "scrolled": true
   },
   "outputs": [],
   "source": [
    "table_df['children'][0]"
   ]
  },
  {
   "cell_type": "code",
   "execution_count": null,
   "metadata": {},
   "outputs": [],
   "source": [
    "#extract \n"
   ]
  },
  {
   "cell_type": "code",
   "execution_count": null,
   "metadata": {},
   "outputs": [],
   "source": [
    "#delete"
   ]
  },
  {
   "cell_type": "code",
   "execution_count": null,
   "metadata": {},
   "outputs": [],
   "source": []
  },
  {
   "cell_type": "code",
   "execution_count": null,
   "metadata": {
    "scrolled": true
   },
   "outputs": [],
   "source": [
    "len(df)"
   ]
  },
  {
   "cell_type": "code",
   "execution_count": null,
   "metadata": {},
   "outputs": [],
   "source": []
  },
  {
   "cell_type": "code",
   "execution_count": null,
   "metadata": {
    "scrolled": true
   },
   "outputs": [],
   "source": []
  },
  {
   "cell_type": "code",
   "execution_count": null,
   "metadata": {},
   "outputs": [],
   "source": [
    "len(ndf)"
   ]
  },
  {
   "cell_type": "code",
   "execution_count": null,
   "metadata": {},
   "outputs": [],
   "source": [
    "tdf['children'][0]"
   ]
  },
  {
   "cell_type": "code",
   "execution_count": null,
   "metadata": {},
   "outputs": [],
   "source": [
    "ndf"
   ]
  },
  {
   "cell_type": "code",
   "execution_count": null,
   "metadata": {},
   "outputs": [],
   "source": []
  },
  {
   "cell_type": "code",
   "execution_count": null,
   "metadata": {},
   "outputs": [],
   "source": []
  },
  {
   "cell_type": "code",
   "execution_count": null,
   "metadata": {},
   "outputs": [],
   "source": []
  },
  {
   "cell_type": "markdown",
   "metadata": {},
   "source": [
    "# Preprocessing for header, footer page num etc"
   ]
  },
  {
   "cell_type": "code",
   "execution_count": null,
   "metadata": {},
   "outputs": [],
   "source": [
    "preprocess_config = {'header_cut':0.15  , 'footer_cut' :0.15 ,'repeat_threshold' :0.95}"
   ]
  },
  {
   "cell_type": "code",
   "execution_count": null,
   "metadata": {},
   "outputs": [],
   "source": [
    "def cut_page(page_df,height,cut_at,direction):\n",
    "    \n",
    "    cut_mark = height * cut_at\n",
    "    if direction == 'above':\n",
    "        sub_df = page_df[page_df['text_top'] <= cut_mark ]\n",
    "        \n",
    "    else :\n",
    "        sub_df = page_df[page_df['text_top'] >= cut_mark ]\n",
    "        \n",
    "    return sub_df\n",
    "\n",
    "\n",
    "def add_box_coordinates(sub_df):\n",
    "    sub_df['text_right']  = sub_df['text_left'] + sub_df['text_width']\n",
    "    sub_df['text_bottom'] = sub_df['text_top'] + sub_df['text_height'] \n",
    "    return sub_df\n",
    "\n",
    "def bb_intersection_over_union(rowA, rowB):\n",
    "    boxA = [rowA['text_left'] ,rowA['text_top'] , rowA['text_right'] , rowA['text_bottom']]\n",
    "    boxB = [rowB['text_left'] ,rowB['text_top'] , rowB['text_right'] , rowB['text_bottom']]\n",
    "    \n",
    "    # determine the (x, y)-coordinates of the intersection rectangle\n",
    "    xA = max(boxA[0], boxB[0])\n",
    "    yA = max(boxA [1], boxB[1])\n",
    "    xB = min(boxA[2], boxB[2])\n",
    "    yB = min(boxA[3], boxB[3])\n",
    "    # compute the area of intersection rectangle\n",
    "    interArea = max(0, xB - xA + 1) * max(0, yB - yA + 1)\n",
    "    # compute the area of both the prediction and ground-truth\n",
    "    # rectangles\n",
    "    boxAArea = (boxA[2] - boxA[0] + 1) * (boxA[3] - boxA[1] + 1)\n",
    "    boxBArea = (boxB[2] - boxB[0] + 1) * (boxB[3] - boxB[1] + 1)\n",
    "    # compute the intersection over union by taking the intersection\n",
    "    # area and dividing it by the sum of prediction + ground-truth\n",
    "    # areas - the interesection area\n",
    "    iou = interArea / float(boxAArea + boxBArea - interArea)\n",
    "    # return the intersection over union value\n",
    "    return iou"
   ]
  },
  {
   "cell_type": "code",
   "execution_count": null,
   "metadata": {},
   "outputs": [],
   "source": [
    "\n",
    "def find_header(xml_dfs ,preprocess_config):\n",
    "    pdf_levle = []\n",
    "\n",
    "    page_df   = xml_dfs[0]\n",
    "    sub_df    = cut_page(page_df,page_height,cut_at=preprocess_config['header_cut'],direction='above')\n",
    "    sub_df    = add_box_coordinates(sub_df)\n",
    "\n",
    "    for page2_df in xml_dfs:\n",
    "        s_df = cut_page(page2_df,page_height,cut_at=preprocess_config['header_cut'],direction='above')\n",
    "        s_df = add_box_coordinates(s_df)\n",
    "\n",
    "        page_level = []\n",
    "        for index1 ,row1 in sub_df.iterrows():   \n",
    "            iou  = 0\n",
    "            for index2 , row2 in s_df.iterrows():\n",
    "                iou += bb_intersection_over_union(row1,row2)\n",
    "\n",
    "            page_level.append(iou)\n",
    "        pdf_levle.append(page_level)\n",
    "\n",
    "    iou_df = pd.DataFrame(pdf_levle,columns=sub_df['text'].values)\n",
    "    check_repeation =   iou_df.sum() / len(iou_df)\n",
    "    regions_to_remove = sub_df[list(check_repeation > preprocess_config['repeat_threshold'])]\n",
    "\n",
    "    \n",
    "    return regions_to_remove\n",
    "\n",
    "\n",
    "\n",
    "\n",
    "def find_footer(xml_dfs,preprocess_config):\n",
    "    pdf_levle = []\n",
    "\n",
    "    page_df = xml_dfs[0]\n",
    "    sub_df = cut_page(page_df,page_height,cut_at=preprocess_config['footer_cut'],direction='below')\n",
    "    sub_df = add_box_coordinates(sub_df)\n",
    "\n",
    "    for page2_df in xml_dfs:\n",
    "        s_df     = cut_page(page2_df,page_height,cut_at=preprocess_config['footer_cut'],direction='below')\n",
    "        s_df = add_box_coordinates(s_df)\n",
    "\n",
    "        page_level = []\n",
    "        for index1 ,row1 in sub_df.iterrows():   \n",
    "            iou  = 0\n",
    "            for index2 , row2 in s_df.iterrows():\n",
    "                iou += bb_intersection_over_union(row1,row2)\n",
    "\n",
    "            page_level.append(iou)\n",
    "        pdf_levle.append(page_level)\n",
    "\n",
    "    iou_df = pd.DataFrame(pdf_levle,columns=sub_df['text'].values)\n",
    "    check_repeation =   iou_df.sum() / len(iou_df)\n",
    "    regions_to_remove = sub_df[list(check_repeation > preprocess_config['repeat_threshold'])]\n",
    "\n",
    "    \n",
    "    return regions_to_remove"
   ]
  },
  {
   "cell_type": "code",
   "execution_count": null,
   "metadata": {},
   "outputs": [],
   "source": [
    "regions_to_remove = find_header(xml_dfs,preprocess_config)"
   ]
  },
  {
   "cell_type": "code",
   "execution_count": null,
   "metadata": {
    "scrolled": true
   },
   "outputs": [],
   "source": [
    "show_df(regions_to_remove)"
   ]
  },
  {
   "cell_type": "code",
   "execution_count": null,
   "metadata": {},
   "outputs": [],
   "source": [
    "xml_dfs[8].head()"
   ]
  },
  {
   "cell_type": "code",
   "execution_count": null,
   "metadata": {
    "scrolled": true
   },
   "outputs": [],
   "source": [
    "xml_dfs[9].head()"
   ]
  },
  {
   "cell_type": "code",
   "execution_count": null,
   "metadata": {},
   "outputs": [],
   "source": [
    "header_region = find_header(xml_dfs,preprocess_config)\n",
    "footer_region = find_footer(xml_dfs,preprocess_config)"
   ]
  },
  {
   "cell_type": "code",
   "execution_count": null,
   "metadata": {},
   "outputs": [],
   "source": [
    "header_region"
   ]
  },
  {
   "cell_type": "code",
   "execution_count": null,
   "metadata": {},
   "outputs": [],
   "source": [
    "footer_region"
   ]
  },
  {
   "cell_type": "code",
   "execution_count": null,
   "metadata": {},
   "outputs": [],
   "source": [
    "#def add_attrib(page_df ,region_to_change,attrib,margin = 5):\n",
    "page_df = xml_dfs[0]\n",
    "region_to_change = header_region\n",
    "margin= 5\n",
    "attrib ='HEADER'"
   ]
  },
  {
   "cell_type": "code",
   "execution_count": null,
   "metadata": {},
   "outputs": [],
   "source": [
    "def add_attrib(page_df ,region_to_change,attrib,margin = 5):\n",
    "    if len(region_to_change) > 0 :\n",
    "        for index, row in region_to_change.iterrows():\n",
    "            area = [row['text_top'] - margin , row['text_left'] - margin ,row['text_top'] + row['text_height'] + margin , row['text_left']+ row['text_width'] + margin]\n",
    "            print(area)\n",
    "            print((page_df['text_top'] >= area[0]) & (page_df['text_left'] >= area[1]) &(page_df['text_top'] + page_df['text_height'] <= area[2]) & (page_df['text_left'] +page_df['text_width'] <= area[3]))\n",
    "            page_df['attrib'][(page_df['text_top'] >= area[0]) & (page_df['text_left'] >= area[1]) &(page_df['text_top'] + page_df['text_height'] <= area[2]) & (page_df['text_left'] +page_df['text_width'] <= area[3]) ] = attrib\n",
    "            \n",
    "    return page_df"
   ]
  },
  {
   "cell_type": "code",
   "execution_count": null,
   "metadata": {},
   "outputs": [],
   "source": [
    "page_df"
   ]
  },
  {
   "cell_type": "code",
   "execution_count": null,
   "metadata": {},
   "outputs": [],
   "source": []
  },
  {
   "cell_type": "code",
   "execution_count": null,
   "metadata": {},
   "outputs": [],
   "source": []
  },
  {
   "cell_type": "code",
   "execution_count": null,
   "metadata": {},
   "outputs": [],
   "source": [
    "# filter page_number based on region and width \n",
    "\n",
    "#  1) check widht based on a configurable range, \n",
    "#  2) check text in neighbour hood. \n"
   ]
  },
  {
   "cell_type": "code",
   "execution_count": null,
   "metadata": {},
   "outputs": [],
   "source": [
    "# Sub script and super script \n",
    "\n",
    "#To do :\n",
    "    # identify if a sub_block contains a sub/super script, so that it can be removed before tokenization\n",
    "    \n",
    "\n",
    "# 1) Check if a line has childern\n",
    "# 2) Check for subscript based on font heights of all children\n",
    "# 3) remove sub script \n",
    "# 4) sub_block  = {'text'   :  ''  ,  'superscript' : []}"
   ]
  },
  {
   "cell_type": "code",
   "execution_count": null,
   "metadata": {},
   "outputs": [],
   "source": [
    "# Foot note \n",
    "\n",
    "    # Check if there is a sub script present in page\n",
    "    # Fire footnote removal \n",
    "        #based on line\n",
    "        #based on font "
   ]
  },
  {
   "cell_type": "code",
   "execution_count": null,
   "metadata": {},
   "outputs": [],
   "source": []
  }
 ],
 "metadata": {
  "kernelspec": {
   "display_name": "Python 3.5.6 64-bit ('cv3': conda)",
   "language": "python",
   "name": "python35664bitcv3conda56b31b492c17456d86703f6408b0e697"
  },
  "language_info": {
   "codemirror_mode": {
    "name": "ipython",
    "version": 3
   },
   "file_extension": ".py",
   "mimetype": "text/x-python",
   "name": "python",
   "nbconvert_exporter": "python",
   "pygments_lexer": "ipython3",
   "version": "3.5.6"
  }
 },
 "nbformat": 4,
 "nbformat_minor": 2
}
